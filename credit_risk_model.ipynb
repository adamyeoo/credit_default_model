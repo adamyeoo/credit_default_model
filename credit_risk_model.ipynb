{
 "cells": [
  {
   "cell_type": "markdown",
   "id": "903c5067-fc58-445b-a3e5-edc9058cbe5e",
   "metadata": {},
   "source": [
    "### Credit Default Risk Model\n",
    "\n",
    "Source: https://www.kaggle.com/code/kabure/predicting-credit-risk-model-pipeline#3.-First-Look-at-the-data:\n",
    "\n",
    "Biggest Issues:\n",
    "- Time complexity of training and hyperparameter tunings (Grid -> Random)\n",
    "\n",
    "What I learned:\n",
    "- The importance of optimizing time."
   ]
  },
  {
   "cell_type": "code",
   "execution_count": 13,
   "id": "9a8e65d7-dbaa-4e85-9f2c-55948eb216d9",
   "metadata": {},
   "outputs": [],
   "source": [
    "import time\n",
    "import warnings\n",
    "import pandas as pd\n",
    "import numpy as np\n",
    "import matplotlib.pyplot as plt\n",
    "\n",
    "from sklearn.model_selection import KFold, train_test_split, cross_val_score, GridSearchCV, RandomizedSearchCV\n",
    "from sklearn.metrics import accuracy_score, classification_report\n",
    "from sklearn.preprocessing import StandardScaler\n",
    "\n",
    "from sklearn.linear_model import LogisticRegression\n",
    "from sklearn.discriminant_analysis import LinearDiscriminantAnalysis\n",
    "from sklearn.neighbors import KNeighborsClassifier\n",
    "from sklearn.tree import DecisionTreeClassifier\n",
    "from sklearn.naive_bayes import GaussianNB\n",
    "from sklearn.ensemble import RandomForestClassifier\n",
    "from sklearn.svm import SVC\n",
    "from xgboost import XGBClassifier\n",
    "\n",
    "warnings.simplefilter(action='ignore', category=FutureWarning) # suppress FutureWarnings"
   ]
  },
  {
   "cell_type": "markdown",
   "id": "70d3607d-9471-4023-8a1d-fa6bca9e831b",
   "metadata": {},
   "source": [
    "#### Step 1: Read and explore"
   ]
  },
  {
   "cell_type": "code",
   "execution_count": 3,
   "id": "305f8fd4-e98a-4823-b7a3-7a9c65a03664",
   "metadata": {},
   "outputs": [
    {
     "data": {
      "text/html": [
       "<div>\n",
       "<style scoped>\n",
       "    .dataframe tbody tr th:only-of-type {\n",
       "        vertical-align: middle;\n",
       "    }\n",
       "\n",
       "    .dataframe tbody tr th {\n",
       "        vertical-align: top;\n",
       "    }\n",
       "\n",
       "    .dataframe thead th {\n",
       "        text-align: right;\n",
       "    }\n",
       "</style>\n",
       "<table border=\"1\" class=\"dataframe\">\n",
       "  <thead>\n",
       "    <tr style=\"text-align: right;\">\n",
       "      <th></th>\n",
       "      <th>ID</th>\n",
       "      <th>LIMIT_BAL</th>\n",
       "      <th>SEX</th>\n",
       "      <th>EDUCATION</th>\n",
       "      <th>MARRIAGE</th>\n",
       "      <th>AGE</th>\n",
       "      <th>PAY_0</th>\n",
       "      <th>PAY_2</th>\n",
       "      <th>PAY_3</th>\n",
       "      <th>PAY_4</th>\n",
       "      <th>...</th>\n",
       "      <th>BILL_AMT4</th>\n",
       "      <th>BILL_AMT5</th>\n",
       "      <th>BILL_AMT6</th>\n",
       "      <th>PAY_AMT1</th>\n",
       "      <th>PAY_AMT2</th>\n",
       "      <th>PAY_AMT3</th>\n",
       "      <th>PAY_AMT4</th>\n",
       "      <th>PAY_AMT5</th>\n",
       "      <th>PAY_AMT6</th>\n",
       "      <th>default.payment.next.month</th>\n",
       "    </tr>\n",
       "  </thead>\n",
       "  <tbody>\n",
       "    <tr>\n",
       "      <th>0</th>\n",
       "      <td>1</td>\n",
       "      <td>20000.0</td>\n",
       "      <td>2</td>\n",
       "      <td>2</td>\n",
       "      <td>1</td>\n",
       "      <td>24</td>\n",
       "      <td>2</td>\n",
       "      <td>2</td>\n",
       "      <td>-1</td>\n",
       "      <td>-1</td>\n",
       "      <td>...</td>\n",
       "      <td>0.0</td>\n",
       "      <td>0.0</td>\n",
       "      <td>0.0</td>\n",
       "      <td>0.0</td>\n",
       "      <td>689.0</td>\n",
       "      <td>0.0</td>\n",
       "      <td>0.0</td>\n",
       "      <td>0.0</td>\n",
       "      <td>0.0</td>\n",
       "      <td>1</td>\n",
       "    </tr>\n",
       "    <tr>\n",
       "      <th>1</th>\n",
       "      <td>2</td>\n",
       "      <td>120000.0</td>\n",
       "      <td>2</td>\n",
       "      <td>2</td>\n",
       "      <td>2</td>\n",
       "      <td>26</td>\n",
       "      <td>-1</td>\n",
       "      <td>2</td>\n",
       "      <td>0</td>\n",
       "      <td>0</td>\n",
       "      <td>...</td>\n",
       "      <td>3272.0</td>\n",
       "      <td>3455.0</td>\n",
       "      <td>3261.0</td>\n",
       "      <td>0.0</td>\n",
       "      <td>1000.0</td>\n",
       "      <td>1000.0</td>\n",
       "      <td>1000.0</td>\n",
       "      <td>0.0</td>\n",
       "      <td>2000.0</td>\n",
       "      <td>1</td>\n",
       "    </tr>\n",
       "    <tr>\n",
       "      <th>2</th>\n",
       "      <td>3</td>\n",
       "      <td>90000.0</td>\n",
       "      <td>2</td>\n",
       "      <td>2</td>\n",
       "      <td>2</td>\n",
       "      <td>34</td>\n",
       "      <td>0</td>\n",
       "      <td>0</td>\n",
       "      <td>0</td>\n",
       "      <td>0</td>\n",
       "      <td>...</td>\n",
       "      <td>14331.0</td>\n",
       "      <td>14948.0</td>\n",
       "      <td>15549.0</td>\n",
       "      <td>1518.0</td>\n",
       "      <td>1500.0</td>\n",
       "      <td>1000.0</td>\n",
       "      <td>1000.0</td>\n",
       "      <td>1000.0</td>\n",
       "      <td>5000.0</td>\n",
       "      <td>0</td>\n",
       "    </tr>\n",
       "    <tr>\n",
       "      <th>3</th>\n",
       "      <td>4</td>\n",
       "      <td>50000.0</td>\n",
       "      <td>2</td>\n",
       "      <td>2</td>\n",
       "      <td>1</td>\n",
       "      <td>37</td>\n",
       "      <td>0</td>\n",
       "      <td>0</td>\n",
       "      <td>0</td>\n",
       "      <td>0</td>\n",
       "      <td>...</td>\n",
       "      <td>28314.0</td>\n",
       "      <td>28959.0</td>\n",
       "      <td>29547.0</td>\n",
       "      <td>2000.0</td>\n",
       "      <td>2019.0</td>\n",
       "      <td>1200.0</td>\n",
       "      <td>1100.0</td>\n",
       "      <td>1069.0</td>\n",
       "      <td>1000.0</td>\n",
       "      <td>0</td>\n",
       "    </tr>\n",
       "    <tr>\n",
       "      <th>4</th>\n",
       "      <td>5</td>\n",
       "      <td>50000.0</td>\n",
       "      <td>1</td>\n",
       "      <td>2</td>\n",
       "      <td>1</td>\n",
       "      <td>57</td>\n",
       "      <td>-1</td>\n",
       "      <td>0</td>\n",
       "      <td>-1</td>\n",
       "      <td>0</td>\n",
       "      <td>...</td>\n",
       "      <td>20940.0</td>\n",
       "      <td>19146.0</td>\n",
       "      <td>19131.0</td>\n",
       "      <td>2000.0</td>\n",
       "      <td>36681.0</td>\n",
       "      <td>10000.0</td>\n",
       "      <td>9000.0</td>\n",
       "      <td>689.0</td>\n",
       "      <td>679.0</td>\n",
       "      <td>0</td>\n",
       "    </tr>\n",
       "    <tr>\n",
       "      <th>...</th>\n",
       "      <td>...</td>\n",
       "      <td>...</td>\n",
       "      <td>...</td>\n",
       "      <td>...</td>\n",
       "      <td>...</td>\n",
       "      <td>...</td>\n",
       "      <td>...</td>\n",
       "      <td>...</td>\n",
       "      <td>...</td>\n",
       "      <td>...</td>\n",
       "      <td>...</td>\n",
       "      <td>...</td>\n",
       "      <td>...</td>\n",
       "      <td>...</td>\n",
       "      <td>...</td>\n",
       "      <td>...</td>\n",
       "      <td>...</td>\n",
       "      <td>...</td>\n",
       "      <td>...</td>\n",
       "      <td>...</td>\n",
       "      <td>...</td>\n",
       "    </tr>\n",
       "    <tr>\n",
       "      <th>29995</th>\n",
       "      <td>29996</td>\n",
       "      <td>220000.0</td>\n",
       "      <td>1</td>\n",
       "      <td>3</td>\n",
       "      <td>1</td>\n",
       "      <td>39</td>\n",
       "      <td>0</td>\n",
       "      <td>0</td>\n",
       "      <td>0</td>\n",
       "      <td>0</td>\n",
       "      <td>...</td>\n",
       "      <td>88004.0</td>\n",
       "      <td>31237.0</td>\n",
       "      <td>15980.0</td>\n",
       "      <td>8500.0</td>\n",
       "      <td>20000.0</td>\n",
       "      <td>5003.0</td>\n",
       "      <td>3047.0</td>\n",
       "      <td>5000.0</td>\n",
       "      <td>1000.0</td>\n",
       "      <td>0</td>\n",
       "    </tr>\n",
       "    <tr>\n",
       "      <th>29996</th>\n",
       "      <td>29997</td>\n",
       "      <td>150000.0</td>\n",
       "      <td>1</td>\n",
       "      <td>3</td>\n",
       "      <td>2</td>\n",
       "      <td>43</td>\n",
       "      <td>-1</td>\n",
       "      <td>-1</td>\n",
       "      <td>-1</td>\n",
       "      <td>-1</td>\n",
       "      <td>...</td>\n",
       "      <td>8979.0</td>\n",
       "      <td>5190.0</td>\n",
       "      <td>0.0</td>\n",
       "      <td>1837.0</td>\n",
       "      <td>3526.0</td>\n",
       "      <td>8998.0</td>\n",
       "      <td>129.0</td>\n",
       "      <td>0.0</td>\n",
       "      <td>0.0</td>\n",
       "      <td>0</td>\n",
       "    </tr>\n",
       "    <tr>\n",
       "      <th>29997</th>\n",
       "      <td>29998</td>\n",
       "      <td>30000.0</td>\n",
       "      <td>1</td>\n",
       "      <td>2</td>\n",
       "      <td>2</td>\n",
       "      <td>37</td>\n",
       "      <td>4</td>\n",
       "      <td>3</td>\n",
       "      <td>2</td>\n",
       "      <td>-1</td>\n",
       "      <td>...</td>\n",
       "      <td>20878.0</td>\n",
       "      <td>20582.0</td>\n",
       "      <td>19357.0</td>\n",
       "      <td>0.0</td>\n",
       "      <td>0.0</td>\n",
       "      <td>22000.0</td>\n",
       "      <td>4200.0</td>\n",
       "      <td>2000.0</td>\n",
       "      <td>3100.0</td>\n",
       "      <td>1</td>\n",
       "    </tr>\n",
       "    <tr>\n",
       "      <th>29998</th>\n",
       "      <td>29999</td>\n",
       "      <td>80000.0</td>\n",
       "      <td>1</td>\n",
       "      <td>3</td>\n",
       "      <td>1</td>\n",
       "      <td>41</td>\n",
       "      <td>1</td>\n",
       "      <td>-1</td>\n",
       "      <td>0</td>\n",
       "      <td>0</td>\n",
       "      <td>...</td>\n",
       "      <td>52774.0</td>\n",
       "      <td>11855.0</td>\n",
       "      <td>48944.0</td>\n",
       "      <td>85900.0</td>\n",
       "      <td>3409.0</td>\n",
       "      <td>1178.0</td>\n",
       "      <td>1926.0</td>\n",
       "      <td>52964.0</td>\n",
       "      <td>1804.0</td>\n",
       "      <td>1</td>\n",
       "    </tr>\n",
       "    <tr>\n",
       "      <th>29999</th>\n",
       "      <td>30000</td>\n",
       "      <td>50000.0</td>\n",
       "      <td>1</td>\n",
       "      <td>2</td>\n",
       "      <td>1</td>\n",
       "      <td>46</td>\n",
       "      <td>0</td>\n",
       "      <td>0</td>\n",
       "      <td>0</td>\n",
       "      <td>0</td>\n",
       "      <td>...</td>\n",
       "      <td>36535.0</td>\n",
       "      <td>32428.0</td>\n",
       "      <td>15313.0</td>\n",
       "      <td>2078.0</td>\n",
       "      <td>1800.0</td>\n",
       "      <td>1430.0</td>\n",
       "      <td>1000.0</td>\n",
       "      <td>1000.0</td>\n",
       "      <td>1000.0</td>\n",
       "      <td>1</td>\n",
       "    </tr>\n",
       "  </tbody>\n",
       "</table>\n",
       "<p>30000 rows × 25 columns</p>\n",
       "</div>"
      ],
      "text/plain": [
       "          ID  LIMIT_BAL  SEX  EDUCATION  MARRIAGE  AGE  PAY_0  PAY_2  PAY_3  \\\n",
       "0          1    20000.0    2          2         1   24      2      2     -1   \n",
       "1          2   120000.0    2          2         2   26     -1      2      0   \n",
       "2          3    90000.0    2          2         2   34      0      0      0   \n",
       "3          4    50000.0    2          2         1   37      0      0      0   \n",
       "4          5    50000.0    1          2         1   57     -1      0     -1   \n",
       "...      ...        ...  ...        ...       ...  ...    ...    ...    ...   \n",
       "29995  29996   220000.0    1          3         1   39      0      0      0   \n",
       "29996  29997   150000.0    1          3         2   43     -1     -1     -1   \n",
       "29997  29998    30000.0    1          2         2   37      4      3      2   \n",
       "29998  29999    80000.0    1          3         1   41      1     -1      0   \n",
       "29999  30000    50000.0    1          2         1   46      0      0      0   \n",
       "\n",
       "       PAY_4  ...  BILL_AMT4  BILL_AMT5  BILL_AMT6  PAY_AMT1  PAY_AMT2  \\\n",
       "0         -1  ...        0.0        0.0        0.0       0.0     689.0   \n",
       "1          0  ...     3272.0     3455.0     3261.0       0.0    1000.0   \n",
       "2          0  ...    14331.0    14948.0    15549.0    1518.0    1500.0   \n",
       "3          0  ...    28314.0    28959.0    29547.0    2000.0    2019.0   \n",
       "4          0  ...    20940.0    19146.0    19131.0    2000.0   36681.0   \n",
       "...      ...  ...        ...        ...        ...       ...       ...   \n",
       "29995      0  ...    88004.0    31237.0    15980.0    8500.0   20000.0   \n",
       "29996     -1  ...     8979.0     5190.0        0.0    1837.0    3526.0   \n",
       "29997     -1  ...    20878.0    20582.0    19357.0       0.0       0.0   \n",
       "29998      0  ...    52774.0    11855.0    48944.0   85900.0    3409.0   \n",
       "29999      0  ...    36535.0    32428.0    15313.0    2078.0    1800.0   \n",
       "\n",
       "       PAY_AMT3  PAY_AMT4  PAY_AMT5  PAY_AMT6  default.payment.next.month  \n",
       "0           0.0       0.0       0.0       0.0                           1  \n",
       "1        1000.0    1000.0       0.0    2000.0                           1  \n",
       "2        1000.0    1000.0    1000.0    5000.0                           0  \n",
       "3        1200.0    1100.0    1069.0    1000.0                           0  \n",
       "4       10000.0    9000.0     689.0     679.0                           0  \n",
       "...         ...       ...       ...       ...                         ...  \n",
       "29995    5003.0    3047.0    5000.0    1000.0                           0  \n",
       "29996    8998.0     129.0       0.0       0.0                           0  \n",
       "29997   22000.0    4200.0    2000.0    3100.0                           1  \n",
       "29998    1178.0    1926.0   52964.0    1804.0                           1  \n",
       "29999    1430.0    1000.0    1000.0    1000.0                           1  \n",
       "\n",
       "[30000 rows x 25 columns]"
      ]
     },
     "execution_count": 3,
     "metadata": {},
     "output_type": "execute_result"
    }
   ],
   "source": [
    "df = pd.read_csv(\"UCI_Credit_Card.csv\")\n",
    "df"
   ]
  },
  {
   "cell_type": "markdown",
   "id": "18aa4726-adf8-46d2-8687-3c5ec7d1ae98",
   "metadata": {},
   "source": [
    "#### Step 2: Pre-process"
   ]
  },
  {
   "cell_type": "code",
   "execution_count": 4,
   "id": "37bd9bd9-8296-4623-8f7a-d08359adc422",
   "metadata": {},
   "outputs": [],
   "source": [
    "# split\n",
    "X = df.drop(['default.payment.next.month'], axis=1)\n",
    "y = df['default.payment.next.month']\n",
    "\n",
    "X_train, X_test, y_train, y_test = train_test_split(X, y, test_size=0.2, random_state=1)\n",
    "\n",
    "# some algos will require standardization\n",
    "scaler = StandardScaler()\n",
    "X_train_std = scaler.fit_transform(X_train)\n",
    "X_test_std = scaler.transform(X_test)"
   ]
  },
  {
   "cell_type": "markdown",
   "id": "64801706-fb6d-45db-a2a9-39776267d447",
   "metadata": {},
   "source": [
    "#### Step 3: Explore algorithms"
   ]
  },
  {
   "cell_type": "code",
   "execution_count": 5,
   "id": "c39183dd-40ba-4caf-af45-603a8ba3c40b",
   "metadata": {},
   "outputs": [
    {
     "name": "stdout",
     "output_type": "stream",
     "text": [
      "X_train shape: (24000, 24)\n",
      "y_train shape: (24000,)\n",
      "X_test shape: (6000, 24)\n",
      "y_test shape: (6000,)\n"
     ]
    }
   ],
   "source": [
    "print(\"X_train shape:\", X_train.shape)\n",
    "print(\"y_train shape:\", y_train.shape)\n",
    "print(\"X_test shape:\", X_test.shape)\n",
    "print(\"y_test shape:\", y_test.shape)"
   ]
  },
  {
   "cell_type": "code",
   "execution_count": 6,
   "id": "4600667c-06f1-45e7-988d-012cfaba8d2a",
   "metadata": {},
   "outputs": [],
   "source": [
    "# given a model, it fits and returns a list of 10 accuracy scores from diff splits for one model\n",
    "def cv_scores(model, X_train_std, y_train):\n",
    "    kfold = KFold(n_splits=10)\n",
    "    scoring = 'accuracy' #perhaps change to recall?\n",
    "    cv_result = cross_val_score(model, X_train_std, y_train, cv=kfold, scoring='accuracy')\n",
    "    return cv_result"
   ]
  },
  {
   "cell_type": "code",
   "execution_count": 7,
   "id": "7faf66b7-c417-4712-9616-3c91c0cdbe49",
   "metadata": {},
   "outputs": [
    {
     "name": "stdout",
     "output_type": "stream",
     "text": [
      "[0.81291667 0.81041667 0.82625    0.80416667 0.80708333 0.81208333\n",
      " 0.82041667 0.82458333 0.83125    0.82458333]\n"
     ]
    }
   ],
   "source": [
    "rf = RandomForestClassifier()\n",
    "pred = cv_scores(rf, X_train_std, y_train)\n",
    "print(pred)"
   ]
  },
  {
   "cell_type": "code",
   "execution_count": 9,
   "id": "50b7652d-707c-4a64-a380-61f5ceb536b6",
   "metadata": {},
   "outputs": [
    {
     "name": "stdout",
     "output_type": "stream",
     "text": [
      "Training time:  496.0665137767792\n"
     ]
    }
   ],
   "source": [
    "### instantiate every algorithm\n",
    "models = []\n",
    "models.append(('lr', LogisticRegression()))\n",
    "models.append(('lda', LinearDiscriminantAnalysis()))\n",
    "models.append(('knn', KNeighborsClassifier()))\n",
    "models.append(('dtree', DecisionTreeClassifier()))\n",
    "models.append(('nb', GaussianNB()))\n",
    "models.append(('rf', RandomForestClassifier(random_state=1)))\n",
    "models.append(('svm', SVC(gamma='auto')))\n",
    "models.append(('xgb', XGBClassifier()))\n",
    "\n",
    "start_time = time.time()\n",
    "\n",
    "# get the score for each algorithm\n",
    "model_names = []\n",
    "model_cvscores = []\n",
    "for name, model in models:\n",
    "    model_names.append(name)\n",
    "    score_list = cv_scores(model, X_train_std, y_train)\n",
    "    avg_score = score_list.mean()\n",
    "    model_cvscores.append(avg_score)\n",
    "\n",
    "end_time = time.time()\n",
    "\n",
    "# display training time\n",
    "elapsed_time = end_time - start_time\n",
    "print(\"Training time: \", elapsed_time)"
   ]
  },
  {
   "cell_type": "code",
   "execution_count": 11,
   "id": "38267179-c2ea-403e-882b-afb39ede0076",
   "metadata": {},
   "outputs": [
    {
     "name": "stdout",
     "output_type": "stream",
     "text": [
      "[0.8105833333333333, 0.8116249999999999, 0.7917083333333335, 0.723, 0.7341249999999999, 0.8184166666666666, 0.8199583333333333, 0.8147500000000001]\n"
     ]
    },
    {
     "data": {
      "text/plain": [
       "Text(0.5, 1.0, 'Accuracy of Each Algorithm (Before Std (Blue) vs. After Std (Red) vs. CrossVal (Green))')"
      ]
     },
     "execution_count": 11,
     "metadata": {},
     "output_type": "execute_result"
    },
    {
     "data": {
      "image/png": "[encoded data removed]",
      "text/plain": [
       "<Figure size 640x480 with 1 Axes>"
      ]
     },
     "metadata": {},
     "output_type": "display_data"
    }
   ],
   "source": [
    "# these are the scores i got before standardiziing the dataset (in blue)\n",
    "# observe that red is either greater than or equal to blue (clearly standardizing helps)\n",
    "# green doesn't have to be better, we just know it's more accurate\n",
    "scores_b4_std = [0.7771666666666667, 0.8078333333333333, 0.7508333333333334, 0.7128333333333333, 0.3888333333333333, 0.8188333333333333, 0.7771666666666667, 0.8171666666666667]\n",
    "scores_std_not_cv = [0.8076666666666666, 0.8078333333333333, 0.793, 0.7091666666666666, 0.742, 0.8153333333333334, 0.8176666666666667, 0.8171666666666667]\n",
    "\n",
    "print(model_cvscores) # we see that green is pre much equal to red\n",
    "plt.scatter(model_names, model_cvscores, color='green')\n",
    "plt.scatter(model_names, scores_b4_std, color='blue')\n",
    "plt.scatter(model_names, scores_std_not_cv, color='red')\n",
    "plt.xlabel(\"Algorithms\")\n",
    "plt.ylabel(\"Prediction Accuracy\")\n",
    "plt.title(\"Accuracy of Each Algorithm (Before Std (Blue) vs. After Std (Red) vs. CrossVal (Green))\")\n",
    "\n",
    "# let's go with the following algorithms: lr, lda, rf, svm, xgb"
   ]
  },
  {
   "cell_type": "markdown",
   "id": "174bc058-d82d-4b56-9ffa-4747b7de5f3d",
   "metadata": {},
   "source": [
    "#### Step 4: Tune hyperparameters\n",
    "After determining the optimal algorithms, let's tune the hyperparameters using grid search."
   ]
  },
  {
   "cell_type": "code",
   "execution_count": 21,
   "id": "1348a5a7-415b-4d83-b9d0-adbc475c7474",
   "metadata": {},
   "outputs": [],
   "source": [
    "# instantiate the rest\n",
    "lr = LogisticRegression()\n",
    "lda = LinearDiscriminantAnalysis()\n",
    "knn = KNeighborsClassifier()\n",
    "dtree = DecisionTreeClassifier()\n",
    "nb = GaussianNB()\n",
    "rf = RandomForestClassifier()\n",
    "svm = SVC(gamma='auto')\n",
    "xgb = XGBClassifier()"
   ]
  },
  {
   "cell_type": "code",
   "execution_count": 16,
   "id": "1f56a04a-2c09-44f7-9286-af18b25a5a4b",
   "metadata": {},
   "outputs": [
    {
     "name": "stdout",
     "output_type": "stream",
     "text": [
      "Fitting 5 folds for each of 5 candidates, totalling 25 fits\n",
      "Tuning time:  284.8582880496979\n",
      "Best possible score:  0.821125\n",
      "Optimal parameters:  {'n_estimators': 50, 'max_features': 15, 'max_depth': 7}\n"
     ]
    }
   ],
   "source": [
    "# set hyperparameters for Random Forest\n",
    "start_time = time.time()\n",
    "\n",
    "param_dist = {\"max_depth\": [3, 5, 7, 10, None], # Maximum depth of the tree\n",
    "              \"n_estimators\": [5, 10, 25, 50, 150], # Number of trees in the forest\n",
    "              \"max_features\": [4, 7, 15, 20]} # Number of features to consider for the best split\n",
    "grid_search = RandomizedSearchCV(rf, param_distributions=param_dist, n_iter=5, cv=5, scoring=\"accuracy\", verbose=1)\n",
    "grid_search.fit(X_train_std, y_train)\n",
    "\n",
    "end_time = time.time()\n",
    "\n",
    "elapsed_time = end_time - start_time\n",
    "print(\"Tuning time: \", elapsed_time)\n",
    "print(\"Best possible score: \", grid_search.best_score_)\n",
    "print(\"Optimal parameters: \", grid_search.best_params_)"
   ]
  },
  {
   "cell_type": "code",
   "execution_count": 24,
   "id": "88e47a7f-e5d6-40b5-b449-486be078c517",
   "metadata": {},
   "outputs": [
    {
     "name": "stdout",
     "output_type": "stream",
     "text": [
      "Fitting 5 folds for each of 5 candidates, totalling 25 fits\n",
      "Best possible score:  0.821875\n",
      "Optimal parameters:  {'subsample': 0.8, 'n_estimators': 300, 'max_depth': 5, 'learning_rate': 0.01, 'colsample_bytree': 0.8}\n"
     ]
    }
   ],
   "source": [
    "# set hyperparameters for XGBoost\n",
    "param_dist = {\n",
    "    'learning_rate': [0.001, 0.01, 0.1],  # Learning rate\n",
    "    'n_estimators': [100, 200, 300],  # Number of boosting rounds\n",
    "    'max_depth': [3, 5, 7],  # Maximum depth of a tree\n",
    "    'subsample': [0.8, 0.9],  # Subsample ratio of the training instance\n",
    "    'colsample_bytree': [0.8, 0.9],  # Subsample ratio of columns when constructing each tree\n",
    "}\n",
    "grid_search = RandomizedSearchCV(xgb, param_distributions=param_dist, n_iter=5, cv=5, scoring=\"accuracy\", verbose=1)\n",
    "grid_search.fit(X_train_std, y_train)\n",
    "\n",
    "print(\"Best possible score: \", grid_search.best_score_)\n",
    "print(\"Optimal parameters: \", grid_search.best_params_)"
   ]
  },
  {
   "cell_type": "code",
   "execution_count": 23,
   "id": "3dc75fee-39cb-4e35-acb8-a725fb727550",
   "metadata": {},
   "outputs": [
    {
     "name": "stdout",
     "output_type": "stream",
     "text": [
      "Fitting 5 folds for each of 3 candidates, totalling 15 fits\n",
      "Best possible score:  0.8118333333333332\n",
      "Optimal parameters:  {'solver': 'svd'}\n"
     ]
    }
   ],
   "source": [
    "# set hyperparameters for Linear Discriminant Analysis\n",
    "param_grid = {\n",
    "    'solver': ['svd', 'lsqr', 'eigen'],  # Solver for singular value decomposition\n",
    "}\n",
    "grid_search = GridSearchCV(lda, param_grid=param_grid, cv=5, scoring=\"accuracy\", verbose=1)\n",
    "grid_search.fit(X_train_std, y_train)\n",
    "\n",
    "print(\"Best possible score: \", grid_search.best_score_)\n",
    "print(\"Optimal parameters: \", grid_search.best_params_)"
   ]
  },
  {
   "cell_type": "code",
   "execution_count": 27,
   "id": "e41f64b6-a65a-4e3d-84dc-3d5fab33e596",
   "metadata": {},
   "outputs": [
    {
     "name": "stdout",
     "output_type": "stream",
     "text": [
      "Fitting 5 folds for each of 10 candidates, totalling 50 fits\n",
      "Best possible score:  0.8103333333333333\n",
      "Optimal parameters:  {'solver': 'liblinear', 'penalty': 'l2', 'C': 100}\n"
     ]
    }
   ],
   "source": [
    "# set hyperparameters for Logistic Regression\n",
    "param_dist = {\n",
    "    'C': [0.001, 0.01, 0.1, 1, 10, 100],  # Regularization strength\n",
    "    'penalty': ['l1', 'l2'],  # Type of regularization ('l1' for Lasso, 'l2' for Ridge)\n",
    "    'solver': ['liblinear'],  # Solver algorithm\n",
    "}\n",
    "grid_search = RandomizedSearchCV(lr, param_distributions=param_dist, cv=5, scoring=\"accuracy\", verbose=1)\n",
    "grid_search.fit(X_train_std, y_train)\n",
    "\n",
    "print(\"Best possible score: \", grid_search.best_score_)\n",
    "print(\"Optimal parameters: \", grid_search.best_params_)"
   ]
  },
  {
   "cell_type": "markdown",
   "id": "c9325e18-9cbd-4d98-88ec-f31d15cacd74",
   "metadata": {},
   "source": [
    "#### Step 5: Fit with the tuned parameters"
   ]
  },
  {
   "cell_type": "code",
   "execution_count": 29,
   "id": "f5c833f6-d4e2-4363-b7a2-9caa119b75af",
   "metadata": {},
   "outputs": [
    {
     "name": "stdout",
     "output_type": "stream",
     "text": [
      "Accuracy:  0.8123333333333334\n",
      "              precision    recall  f1-score   support\n",
      "\n",
      "           0       0.82      0.97      0.89      4663\n",
      "           1       0.72      0.26      0.38      1337\n",
      "\n",
      "    accuracy                           0.81      6000\n",
      "   macro avg       0.77      0.62      0.64      6000\n",
      "weighted avg       0.80      0.81      0.78      6000\n",
      "\n"
     ]
    }
   ],
   "source": [
    "# run xgb\n",
    "xgb_tuned = XGBClassifier(subsample=0.8, n_estimators=300, max_depth=5, learning_rate=0.01, colsample_bytree=0.8, random_state=1)\n",
    "xgb_tuned.fit(X_train_std, y_train)\n",
    "y_pred = xgb_tuned.predict(X_test)\n",
    "\n",
    "accuracy = accuracy_score(y_test, y_pred)\n",
    "report = classification_report(y_test, y_pred)\n",
    "print(\"Accuracy: \", accuracy)\n",
    "print(report)"
   ]
  }
 ],
 "metadata": {
  "kernelspec": {
   "display_name": "Python 3 (ipykernel)",
   "language": "python",
   "name": "python3"
  },
  "language_info": {
   "codemirror_mode": {
    "name": "ipython",
    "version": 3
   },
   "file_extension": ".py",
   "mimetype": "text/x-python",
   "name": "python",
   "nbconvert_exporter": "python",
   "pygments_lexer": "ipython3",
   "version": "3.12.0"
  }
 },
 "nbformat": 4,
 "nbformat_minor": 5
}
